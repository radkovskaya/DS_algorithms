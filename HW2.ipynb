{
  "nbformat": 4,
  "nbformat_minor": 0,
  "metadata": {
    "colab": {
      "name": "HW2.ipynb",
      "provenance": [],
      "collapsed_sections": []
    },
    "kernelspec": {
      "display_name": "Python 3",
      "language": "python",
      "name": "python3"
    },
    "language_info": {
      "codemirror_mode": {
        "name": "ipython",
        "version": 3
      },
      "file_extension": ".py",
      "mimetype": "text/x-python",
      "name": "python",
      "nbconvert_exporter": "python",
      "pygments_lexer": "ipython3",
      "version": "3.6.9"
    }
  },
  "cells": [
    {
      "cell_type": "code",
      "metadata": {
        "colab_type": "code",
        "id": "_u5bV-OlT34p",
        "colab": {}
      },
      "source": [
        "import numpy as np\n",
        "import matplotlib.pyplot as plt"
      ],
      "execution_count": 0,
      "outputs": []
    },
    {
      "cell_type": "code",
      "metadata": {
        "colab_type": "code",
        "id": "_n6il-AZaLuA",
        "colab": {}
      },
      "source": [
        "# К признаку стажа добавим признаки: средняя стоимость занятия,\n",
        "# квалификация репетитора\n",
        "X = np.array([[1, 1, 1, 1, 1, 1, 1, 1, 1, 1],\n",
        "              [1, 1, 2, 1, 3, 0, 5, 10, 1, 2],\n",
        "              [500, 700, 750, 600, 1450,\n",
        "               800, 1500, 2000, 450, 1000],\n",
        "              [1, 1, 2, 1, 2, \n",
        "               1, 3, 3, 1, 2]])"
      ],
      "execution_count": 0,
      "outputs": []
    },
    {
      "cell_type": "code",
      "metadata": {
        "colab_type": "code",
        "id": "x8yoci01ni-t",
        "colab": {}
      },
      "source": [
        "y = [45, 55, 50, 59, 65,\n",
        "    35, 75, 80, 50, 60]"
      ],
      "execution_count": 0,
      "outputs": []
    },
    {
      "cell_type": "code",
      "metadata": {
        "colab_type": "code",
        "id": "Ei5qeZO_aT6m",
        "outputId": "fa5f34f5-dda6-4654-eceb-8fa6877723dc",
        "colab": {
          "base_uri": "https://localhost:8080/",
          "height": 34
        }
      },
      "source": [
        "# Нормализация [0, 1]\n",
        "X[1].min(), X[1].max()"
      ],
      "execution_count": 0,
      "outputs": [
        {
          "output_type": "execute_result",
          "data": {
            "text/plain": [
              "(0, 10)"
            ]
          },
          "metadata": {
            "tags": []
          },
          "execution_count": 4
        }
      ]
    },
    {
      "cell_type": "code",
      "metadata": {
        "colab_type": "code",
        "id": "L7wsW1Q7b4Ts",
        "outputId": "3e75a3c2-eb7b-4513-af0a-0fe07b58890a",
        "colab": {
          "base_uri": "https://localhost:8080/",
          "height": 34
        }
      },
      "source": [
        "X[2].min(), X[2].max()"
      ],
      "execution_count": 0,
      "outputs": [
        {
          "output_type": "execute_result",
          "data": {
            "text/plain": [
              "(450, 2000)"
            ]
          },
          "metadata": {
            "tags": []
          },
          "execution_count": 5
        }
      ]
    },
    {
      "cell_type": "code",
      "metadata": {
        "colab_type": "code",
        "id": "E55S9Bzob9Xa",
        "outputId": "640d733b-404c-49cc-9763-6c8cf156c30e",
        "colab": {
          "base_uri": "https://localhost:8080/",
          "height": 155
        }
      },
      "source": [
        "X_norm = X.copy()\n",
        "X_norm = X_norm.astype(np.float64)\n",
        "X_norm"
      ],
      "execution_count": 0,
      "outputs": [
        {
          "output_type": "execute_result",
          "data": {
            "text/plain": [
              "array([[1.00e+00, 1.00e+00, 1.00e+00, 1.00e+00, 1.00e+00, 1.00e+00,\n",
              "        1.00e+00, 1.00e+00, 1.00e+00, 1.00e+00],\n",
              "       [1.00e+00, 1.00e+00, 2.00e+00, 1.00e+00, 3.00e+00, 0.00e+00,\n",
              "        5.00e+00, 1.00e+01, 1.00e+00, 2.00e+00],\n",
              "       [5.00e+02, 7.00e+02, 7.50e+02, 6.00e+02, 1.45e+03, 8.00e+02,\n",
              "        1.50e+03, 2.00e+03, 4.50e+02, 1.00e+03],\n",
              "       [1.00e+00, 1.00e+00, 2.00e+00, 1.00e+00, 2.00e+00, 1.00e+00,\n",
              "        3.00e+00, 3.00e+00, 1.00e+00, 2.00e+00]])"
            ]
          },
          "metadata": {
            "tags": []
          },
          "execution_count": 6
        }
      ]
    },
    {
      "cell_type": "code",
      "metadata": {
        "colab_type": "code",
        "id": "7x-6IuPOcIo0",
        "outputId": "358cc945-0d0b-43c4-eb84-91b902fab2d9",
        "colab": {
          "base_uri": "https://localhost:8080/",
          "height": 155
        }
      },
      "source": [
        "X_norm[1] = (X[1] - X[1].min()) / (X[1].max() - X[1].min())\n",
        "X_norm"
      ],
      "execution_count": 0,
      "outputs": [
        {
          "output_type": "execute_result",
          "data": {
            "text/plain": [
              "array([[1.00e+00, 1.00e+00, 1.00e+00, 1.00e+00, 1.00e+00, 1.00e+00,\n",
              "        1.00e+00, 1.00e+00, 1.00e+00, 1.00e+00],\n",
              "       [1.00e-01, 1.00e-01, 2.00e-01, 1.00e-01, 3.00e-01, 0.00e+00,\n",
              "        5.00e-01, 1.00e+00, 1.00e-01, 2.00e-01],\n",
              "       [5.00e+02, 7.00e+02, 7.50e+02, 6.00e+02, 1.45e+03, 8.00e+02,\n",
              "        1.50e+03, 2.00e+03, 4.50e+02, 1.00e+03],\n",
              "       [1.00e+00, 1.00e+00, 2.00e+00, 1.00e+00, 2.00e+00, 1.00e+00,\n",
              "        3.00e+00, 3.00e+00, 1.00e+00, 2.00e+00]])"
            ]
          },
          "metadata": {
            "tags": []
          },
          "execution_count": 7
        }
      ]
    },
    {
      "cell_type": "code",
      "metadata": {
        "colab_type": "code",
        "id": "izkMRdXFcjyK",
        "outputId": "c663a777-7eac-466c-ff56-a76087f3b90b",
        "colab": {
          "base_uri": "https://localhost:8080/",
          "height": 155
        }
      },
      "source": [
        "X_norm[2] = (X[2] - X[2].min()) / (X[2].max() - X[2].min())\n",
        "X_norm"
      ],
      "execution_count": 0,
      "outputs": [
        {
          "output_type": "execute_result",
          "data": {
            "text/plain": [
              "array([[1.        , 1.        , 1.        , 1.        , 1.        ,\n",
              "        1.        , 1.        , 1.        , 1.        , 1.        ],\n",
              "       [0.1       , 0.1       , 0.2       , 0.1       , 0.3       ,\n",
              "        0.        , 0.5       , 1.        , 0.1       , 0.2       ],\n",
              "       [0.03225806, 0.16129032, 0.19354839, 0.09677419, 0.64516129,\n",
              "        0.22580645, 0.67741935, 1.        , 0.        , 0.35483871],\n",
              "       [1.        , 1.        , 2.        , 1.        , 2.        ,\n",
              "        1.        , 3.        , 3.        , 1.        , 2.        ]])"
            ]
          },
          "metadata": {
            "tags": []
          },
          "execution_count": 8
        }
      ]
    },
    {
      "cell_type": "code",
      "metadata": {
        "colab_type": "code",
        "id": "Zy63bpFfeqzu",
        "colab": {}
      },
      "source": [
        "# Стандартизация"
      ],
      "execution_count": 0,
      "outputs": []
    },
    {
      "cell_type": "code",
      "metadata": {
        "colab_type": "code",
        "id": "8i9pB-3-fMD4",
        "outputId": "4a249998-968a-4862-b18c-68a32825c0b9",
        "colab": {
          "base_uri": "https://localhost:8080/",
          "height": 317
        }
      },
      "source": [
        "plt.hist(X[1])"
      ],
      "execution_count": 0,
      "outputs": [
        {
          "output_type": "execute_result",
          "data": {
            "text/plain": [
              "(array([1., 4., 2., 1., 0., 1., 0., 0., 0., 1.]),\n",
              " array([ 0.,  1.,  2.,  3.,  4.,  5.,  6.,  7.,  8.,  9., 10.]),\n",
              " <a list of 10 Patch objects>)"
            ]
          },
          "metadata": {
            "tags": []
          },
          "execution_count": 9
        },
        {
          "output_type": "display_data",
          "data": {
            "image/png": "[encoded data removed]",
            "text/plain": [
              "<Figure size 432x288 with 1 Axes>"
            ]
          },
          "metadata": {
            "tags": []
          }
        }
      ]
    },
    {
      "cell_type": "code",
      "metadata": {
        "colab_type": "code",
        "id": "-bnAYQqVfRX-",
        "outputId": "3fbece7c-6155-4688-e12f-725c1a3e0b8a",
        "colab": {
          "base_uri": "https://localhost:8080/",
          "height": 334
        }
      },
      "source": [
        "plt.hist(X[2])"
      ],
      "execution_count": 0,
      "outputs": [
        {
          "output_type": "execute_result",
          "data": {
            "text/plain": [
              "(array([3., 2., 1., 1., 0., 0., 2., 0., 0., 1.]),\n",
              " array([ 450.,  605.,  760.,  915., 1070., 1225., 1380., 1535., 1690.,\n",
              "        1845., 2000.]),\n",
              " <a list of 10 Patch objects>)"
            ]
          },
          "metadata": {
            "tags": []
          },
          "execution_count": 10
        },
        {
          "output_type": "display_data",
          "data": {
            "image/png": "[encoded data removed]",
            "text/plain": [
              "<Figure size 432x288 with 1 Axes>"
            ]
          },
          "metadata": {
            "tags": []
          }
        }
      ]
    },
    {
      "cell_type": "code",
      "metadata": {
        "colab_type": "code",
        "id": "eBMYUxGBfeGs",
        "outputId": "7a86a573-d05c-4800-f4b4-9357873e224a",
        "colab": {
          "base_uri": "https://localhost:8080/",
          "height": 34
        }
      },
      "source": [
        "X1_mean = X[1].mean()\n",
        "X1_mean"
      ],
      "execution_count": 11,
      "outputs": [
        {
          "output_type": "execute_result",
          "data": {
            "text/plain": [
              "2.6"
            ]
          },
          "metadata": {
            "tags": []
          },
          "execution_count": 11
        }
      ]
    },
    {
      "cell_type": "code",
      "metadata": {
        "colab_type": "code",
        "id": "KsBCCu-Cf45z",
        "outputId": "c82e2abc-3bfe-4bdc-efa1-d7825bbceb3d",
        "colab": {
          "base_uri": "https://localhost:8080/",
          "height": 34
        }
      },
      "source": [
        "X1_std = X[1].std()\n",
        "X1_std"
      ],
      "execution_count": 12,
      "outputs": [
        {
          "output_type": "execute_result",
          "data": {
            "text/plain": [
              "2.8000000000000003"
            ]
          },
          "metadata": {
            "tags": []
          },
          "execution_count": 12
        }
      ]
    },
    {
      "cell_type": "code",
      "metadata": {
        "colab_type": "code",
        "id": "M57-Pzl_f_rF",
        "colab": {}
      },
      "source": [
        "X_st = X.copy().astype(np.float64)"
      ],
      "execution_count": 0,
      "outputs": []
    },
    {
      "cell_type": "code",
      "metadata": {
        "colab_type": "code",
        "id": "btJMY0YbgKLb",
        "outputId": "62e49d3e-e2b1-463e-a841-aa33ac3a83fe",
        "colab": {
          "base_uri": "https://localhost:8080/",
          "height": 289
        }
      },
      "source": [
        "X_st[1] = (X[1] - X1_mean) / X1_std\n",
        "X_st"
      ],
      "execution_count": 14,
      "outputs": [
        {
          "output_type": "execute_result",
          "data": {
            "text/plain": [
              "array([[ 1.00000000e+00,  1.00000000e+00,  1.00000000e+00,\n",
              "         1.00000000e+00,  1.00000000e+00,  1.00000000e+00,\n",
              "         1.00000000e+00,  1.00000000e+00,  1.00000000e+00,\n",
              "         1.00000000e+00],\n",
              "       [-5.71428571e-01, -5.71428571e-01, -2.14285714e-01,\n",
              "        -5.71428571e-01,  1.42857143e-01, -9.28571429e-01,\n",
              "         8.57142857e-01,  2.64285714e+00, -5.71428571e-01,\n",
              "        -2.14285714e-01],\n",
              "       [ 5.00000000e+02,  7.00000000e+02,  7.50000000e+02,\n",
              "         6.00000000e+02,  1.45000000e+03,  8.00000000e+02,\n",
              "         1.50000000e+03,  2.00000000e+03,  4.50000000e+02,\n",
              "         1.00000000e+03],\n",
              "       [ 1.00000000e+00,  1.00000000e+00,  2.00000000e+00,\n",
              "         1.00000000e+00,  2.00000000e+00,  1.00000000e+00,\n",
              "         3.00000000e+00,  3.00000000e+00,  1.00000000e+00,\n",
              "         2.00000000e+00]])"
            ]
          },
          "metadata": {
            "tags": []
          },
          "execution_count": 14
        }
      ]
    },
    {
      "cell_type": "code",
      "metadata": {
        "colab_type": "code",
        "id": "-Y1tzWGCgYjA",
        "outputId": "93a187e9-639c-4d86-a3e0-5a474c0572b1",
        "colab": {
          "base_uri": "https://localhost:8080/",
          "height": 351
        }
      },
      "source": [
        "plt.hist(X_st[1])"
      ],
      "execution_count": 0,
      "outputs": [
        {
          "output_type": "execute_result",
          "data": {
            "text/plain": [
              "(array([1., 4., 2., 1., 1., 0., 0., 0., 0., 1.]),\n",
              " array([-0.92857143, -0.57142857, -0.21428571,  0.14285714,  0.5       ,\n",
              "         0.85714286,  1.21428571,  1.57142857,  1.92857143,  2.28571429,\n",
              "         2.64285714]),\n",
              " <a list of 10 Patch objects>)"
            ]
          },
          "metadata": {
            "tags": []
          },
          "execution_count": 15
        },
        {
          "output_type": "display_data",
          "data": {
            "image/png": "[encoded data removed]",
            "text/plain": [
              "<Figure size 432x288 with 1 Axes>"
            ]
          },
          "metadata": {
            "tags": []
          }
        }
      ]
    },
    {
      "cell_type": "code",
      "metadata": {
        "colab_type": "code",
        "id": "ZlJUBOyzgkJV",
        "colab": {}
      },
      "source": [
        "def calc_std_feat(x):\n",
        "  res = (x - x.mean()) / x.std()\n",
        "  return res\n",
        "  "
      ],
      "execution_count": 0,
      "outputs": []
    },
    {
      "cell_type": "code",
      "metadata": {
        "colab_type": "code",
        "id": "6PlDlFY0hGZA",
        "colab": {}
      },
      "source": [
        "X_st[2] = calc_std_feat(X[2])"
      ],
      "execution_count": 0,
      "outputs": []
    },
    {
      "cell_type": "code",
      "metadata": {
        "colab_type": "code",
        "id": "LOKhmhJjt9TR",
        "outputId": "8ad4cc81-17f5-4fb1-9ca5-ba95f7e55b57",
        "colab": {
          "base_uri": "https://localhost:8080/",
          "height": 153
        }
      },
      "source": [
        "X_st[3] = calc_std_feat(X[3])\n",
        "X_st"
      ],
      "execution_count": 17,
      "outputs": [
        {
          "output_type": "execute_result",
          "data": {
            "text/plain": [
              "array([[ 1.        ,  1.        ,  1.        ,  1.        ,  1.        ,\n",
              "         1.        ,  1.        ,  1.        ,  1.        ,  1.        ],\n",
              "       [-0.57142857, -0.57142857, -0.21428571, -0.57142857,  0.14285714,\n",
              "        -0.92857143,  0.85714286,  2.64285714, -0.57142857, -0.21428571],\n",
              "       [-0.97958969, -0.56713087, -0.46401617, -0.77336028,  0.97958969,\n",
              "        -0.36090146,  1.08270439,  2.11385144, -1.08270439,  0.05155735],\n",
              "       [-0.89625816, -0.89625816,  0.38411064, -0.89625816,  0.38411064,\n",
              "        -0.89625816,  1.66447944,  1.66447944, -0.89625816,  0.38411064]])"
            ]
          },
          "metadata": {
            "tags": []
          },
          "execution_count": 17
        }
      ]
    },
    {
      "cell_type": "code",
      "metadata": {
        "colab_type": "code",
        "id": "UwiZ4UcOhQXX",
        "outputId": "d25157a4-42b8-474b-8e2d-a6a01e0cdf87",
        "colab": {
          "base_uri": "https://localhost:8080/",
          "height": 153
        }
      },
      "source": [
        "X_st"
      ],
      "execution_count": 18,
      "outputs": [
        {
          "output_type": "execute_result",
          "data": {
            "text/plain": [
              "array([[ 1.        ,  1.        ,  1.        ,  1.        ,  1.        ,\n",
              "         1.        ,  1.        ,  1.        ,  1.        ,  1.        ],\n",
              "       [-0.57142857, -0.57142857, -0.21428571, -0.57142857,  0.14285714,\n",
              "        -0.92857143,  0.85714286,  2.64285714, -0.57142857, -0.21428571],\n",
              "       [-0.97958969, -0.56713087, -0.46401617, -0.77336028,  0.97958969,\n",
              "        -0.36090146,  1.08270439,  2.11385144, -1.08270439,  0.05155735],\n",
              "       [-0.89625816, -0.89625816,  0.38411064, -0.89625816,  0.38411064,\n",
              "        -0.89625816,  1.66447944,  1.66447944, -0.89625816,  0.38411064]])"
            ]
          },
          "metadata": {
            "tags": []
          },
          "execution_count": 18
        }
      ]
    },
    {
      "cell_type": "code",
      "metadata": {
        "colab_type": "code",
        "id": "UdGy9tjVhZol",
        "colab": {}
      },
      "source": [
        "# SGD"
      ],
      "execution_count": 0,
      "outputs": []
    },
    {
      "cell_type": "code",
      "metadata": {
        "colab_type": "code",
        "id": "VDpN7UxYnrcS",
        "colab": {}
      },
      "source": [
        "def calc_mse(y, y_pred):\n",
        "  err = np.mean((y - y_pred)**2)\n",
        "  return err"
      ],
      "execution_count": 0,
      "outputs": []
    },
    {
      "cell_type": "code",
      "metadata": {
        "colab_type": "code",
        "id": "SgEyis2zlJeb",
        "colab": {}
      },
      "source": [
        "def eval_model(X, y, iterations, alpha=1e-4):\n",
        "  W = np.random.randn(X.shape[0])\n",
        "  n = X.shape[1]\n",
        "  for i in range(1, iterations+1):\n",
        "    y_pred = np.dot(W, X)\n",
        "    err = calc_mse(y, y_pred)\n",
        "    W -= (alpha * (1/n * 2 * np.dot((y_pred - y), X.T)))\n",
        "    if i % (iterations / 10) == 0:\n",
        "      print(i, W, err)\n",
        "  return W"
      ],
      "execution_count": 0,
      "outputs": []
    },
    {
      "cell_type": "code",
      "metadata": {
        "colab_type": "code",
        "id": "4nsYMAGjmFlB",
        "outputId": "71a5878c-8bcd-4d73-9f43-2df2b94ecd81",
        "colab": {
          "base_uri": "https://localhost:8080/",
          "height": 207
        }
      },
      "source": [
        "eval_model(X_st, y, iterations=1000, alpha=1e-2)"
      ],
      "execution_count": 0,
      "outputs": [
        {
          "output_type": "stream",
          "text": [
            "100 [49.78801352  4.02079444  3.60173195  3.98171244] 100.99398948991507\n",
            "200 [56.39050173  4.43251223  3.26222422  3.95015535] 41.4349963430825\n",
            "300 [57.26612079  4.7526508   2.966322    3.92942778] 40.20083782953892\n",
            "400 [57.382245    5.009762    2.71759079  3.92394476] 40.05368924575321\n",
            "500 [57.39764534  5.21678491  2.50867774  3.92830602] 39.96630925181701\n",
            "600 [57.39968773  5.38387263  2.3333119   3.93868712] 39.90716801593534\n",
            "700 [57.39995859  5.51903776  2.18618363  3.95243612] 39.866823742865876\n",
            "800 [57.39999451  5.62862019  2.06280413  3.96774693] 39.839197476251194\n",
            "900 [57.39999927  5.71764948  1.9593835   3.98341923] 39.8202206384719\n",
            "1000 [57.3999999   5.79012617  1.87272573  3.99868276] 39.8071508614458\n"
          ],
          "name": "stdout"
        },
        {
          "output_type": "execute_result",
          "data": {
            "text/plain": [
              "array([57.3999999 ,  5.79012617,  1.87272573,  3.99868276])"
            ]
          },
          "metadata": {
            "tags": []
          },
          "execution_count": 23
        }
      ]
    },
    {
      "cell_type": "code",
      "metadata": {
        "colab_type": "code",
        "id": "nCcMmNdQmxDp",
        "colab": {}
      },
      "source": [
        "def eval_sgd_model(X, y, iterations, qty_in_batch, alpha=1e-4):\n",
        "  W = np.random.randn(X.shape[0])\n",
        "  n = X.shape[1]\n",
        "  n_batch = n // qty_in_batch\n",
        "  if n % qty_in_batch != 0:\n",
        "    n_batch += 1\n",
        "  for i in range(1, iterations+1):\n",
        "    for b in range(n_batch):\n",
        "      start_ = qty_in_batch*b\n",
        "      end_ = qty_in_batch*(b+1)\n",
        "      \n",
        "      # print(b, n_batch, start_, end_)\n",
        "      \n",
        "      X_tmp = X[:, start_ : end_]\n",
        "      y_tmp = y[start_ : end_]\n",
        "      y_pred_tmp = np.dot(W, X_tmp)\n",
        "      err = calc_mse(y_tmp, y_pred_tmp)\n",
        "      W -= (alpha * (1/n * 2 * np.dot((y_pred_tmp - y_tmp), X_tmp.T)))\n",
        "    if i % (iterations / 10) == 0:\n",
        "      print(i, W, err)\n",
        "  return W"
      ],
      "execution_count": 0,
      "outputs": []
    },
    {
      "cell_type": "code",
      "metadata": {
        "colab_type": "code",
        "id": "2aXap4Vsm3GV",
        "outputId": "af0f4e17-d075-47e7-c848-44c637dadb67",
        "colab": {
          "base_uri": "https://localhost:8080/",
          "height": 207
        }
      },
      "source": [
        "eval_sgd_model(X_st, y, iterations=2000, qty_in_batch=5, alpha=1e-2)"
      ],
      "execution_count": 0,
      "outputs": [
        {
          "output_type": "stream",
          "text": [
            "200 [56.40014779  4.59814906  3.63594089  3.4447905 ] 42.42803781843835\n",
            "400 [57.38129173  5.08721692  2.96573457  3.62200328] 42.71573218271556\n",
            "600 [57.39836547  5.42009376  2.49963466  3.75956541] 41.401710002167505\n",
            "800 [57.39840002  5.64657259  2.17392088  3.86201014] 40.45568277793352\n",
            "1000 [57.3982154   5.80126905  1.94638868  3.93711919] 39.79831551202769\n",
            "1200 [57.39808444  5.90730009  1.7875048   3.99157586] 39.34035158552034\n",
            "1400 [57.39799395  5.98018731  1.67659301  4.03072929] 39.02066950117903\n",
            "1600 [57.39793135  6.03041355  1.59918914  4.05869998] 38.79728818120203\n",
            "1800 [57.39788799  6.0650948   1.54518144  4.07858276] 38.64113339979226\n",
            "2000 [57.39785792  6.08908278  1.50750465  4.09266137] 38.53196668658843\n"
          ],
          "name": "stdout"
        },
        {
          "output_type": "execute_result",
          "data": {
            "text/plain": [
              "array([57.39785792,  6.08908278,  1.50750465,  4.09266137])"
            ]
          },
          "metadata": {
            "tags": []
          },
          "execution_count": 29
        }
      ]
    },
    {
      "cell_type": "code",
      "metadata": {
        "colab_type": "code",
        "id": "DYTxT_6OrZpe",
        "colab": {}
      },
      "source": [
        "# L1 регуляризация - Lasso"
      ],
      "execution_count": 0,
      "outputs": []
    },
    {
      "cell_type": "code",
      "metadata": {
        "colab_type": "code",
        "id": "Ojkn7xKrsyiw",
        "colab": {}
      },
      "source": [
        "f(x, W) + (lambda_/2) * np.sum(np.abs(W))"
      ],
      "execution_count": 0,
      "outputs": []
    },
    {
      "cell_type": "code",
      "metadata": {
        "colab_type": "code",
        "id": "j38vId7Hvtg0",
        "colab": {}
      },
      "source": [
        "# L2 регуляризация - Ridge"
      ],
      "execution_count": 0,
      "outputs": []
    },
    {
      "cell_type": "code",
      "metadata": {
        "colab_type": "code",
        "id": "KO5BtZ7svv4k",
        "colab": {}
      },
      "source": [
        "f(x, W) + (lambda_/2) * np.sum(W**2)"
      ],
      "execution_count": 0,
      "outputs": []
    },
    {
      "cell_type": "code",
      "metadata": {
        "id": "VhcEvi875yD4",
        "colab_type": "code",
        "colab": {}
      },
      "source": [
        "df/dw1 = d(w1**2 + w2**2 + w3**2) / dw1 = 2*w1 + 0 + 0 = 2*w1"
      ],
      "execution_count": 0,
      "outputs": []
    },
    {
      "cell_type": "code",
      "metadata": {
        "colab_type": "code",
        "id": "PKmpPziCv3IC",
        "colab": {}
      },
      "source": [
        "f'(x, W) + lambda_ * np.sum(W)"
      ],
      "execution_count": 0,
      "outputs": []
    },
    {
      "cell_type": "code",
      "metadata": {
        "colab_type": "code",
        "id": "7AVoe1Mswjni",
        "colab": {}
      },
      "source": [
        "def eval_model_reg2(X, y, iterations, alpha=1e-4, lambda_=1e-8):\n",
        "  np.random.seed(42)\n",
        "  W = np.random.randn(X.shape[0])\n",
        "  n = X.shape[1]\n",
        "  for i in range(1, iterations+1):\n",
        "    y_pred = np.dot(W, X)\n",
        "    err = calc_mse(y, y_pred)\n",
        "    W -= alpha * (1/n * 2 * np.dot((y_pred - y), X.T) + lambda_ * W) \n",
        "\n",
        "  return W"
      ],
      "execution_count": 0,
      "outputs": []
    },
    {
      "cell_type": "code",
      "metadata": {
        "id": "ENlE9Z1nJf4h",
        "colab_type": "code",
        "outputId": "fcda3b79-165f-4db5-eeff-03b0aa40aab1",
        "colab": {
          "base_uri": "https://localhost:8080/",
          "height": 34
        }
      },
      "source": [
        "np.array([3, 3.5, 1.4, 7.9]) - np.array([0.01, 0.02, 0.005, -0.014])"
      ],
      "execution_count": 0,
      "outputs": [
        {
          "output_type": "execute_result",
          "data": {
            "text/plain": [
              "array([2.99 , 3.48 , 1.395, 7.914])"
            ]
          },
          "metadata": {
            "tags": []
          },
          "execution_count": 39
        }
      ]
    },
    {
      "cell_type": "code",
      "metadata": {
        "colab_type": "code",
        "id": "vLJL6j8Lw6OA",
        "outputId": "84591f9f-2c7d-42fc-f2e2-5d2614be6113",
        "colab": {
          "base_uri": "https://localhost:8080/",
          "height": 207
        }
      },
      "source": [
        "eval_model_reg2(X_st, y, iterations=5000, alpha=1e-2, lambda_=1e-4)"
      ],
      "execution_count": 0,
      "outputs": [
        {
          "output_type": "stream",
          "text": [
            "500 [57.39479705  5.10767868  2.46037345  4.08674902] 39.98166412253417\n",
            "1000 [57.39713005  5.765859    1.85689028  4.03893236] 39.807231204063974\n",
            "1500 [57.39713014  5.99060723  1.60529698  4.06885866] 39.78240504280037\n",
            "2000 [57.39713014  6.07152025  1.50155606  4.09300748] 39.7785235657889\n",
            "2500 [57.39713014  6.10185559  1.45905205  4.10572941] 39.77788748617128\n",
            "3000 [57.39713014  6.11355928  1.44170275  4.11160375] 39.77777930470261\n",
            "3500 [57.39713014  6.11816175  1.43463681  4.11416107] 39.77775983405893\n",
            "4000 [57.39713014  6.11999396  1.43176283  4.1152412 ] 39.777755943216036\n",
            "4500 [57.39713014  6.12072893  1.43059479  4.11568989] 39.77775502451415\n",
            "5000 [57.39713014  6.12102515  1.4301203   4.11587451] 39.777754760507676\n"
          ],
          "name": "stdout"
        },
        {
          "output_type": "execute_result",
          "data": {
            "text/plain": [
              "array([57.39713014,  6.12102515,  1.4301203 ,  4.11587451])"
            ]
          },
          "metadata": {
            "tags": []
          },
          "execution_count": 36
        }
      ]
    },
    {
      "cell_type": "code",
      "metadata": {
        "colab_type": "code",
        "id": "WLREMakFxQgX",
        "colab": {}
      },
      "source": [
        "# В некоторых алгоритмах используется обратный коэффициент\n",
        "C = 1/lambda"
      ],
      "execution_count": 0,
      "outputs": []
    },
    {
      "cell_type": "markdown",
      "metadata": {
        "id": "kx0eyXI7hWFj",
        "colab_type": "text"
      },
      "source": [
        "## **Домашняя работа**"
      ]
    },
    {
      "cell_type": "markdown",
      "metadata": {
        "id": "oLFgy44thgd4",
        "colab_type": "text"
      },
      "source": [
        "1. Постройте график зависимости весов всех признаков от lambda в L2-регуляризации (на данных из урока)."
      ]
    },
    {
      "cell_type": "code",
      "metadata": {
        "id": "gY0ZvjyVk6Bn",
        "colab_type": "code",
        "colab": {
          "base_uri": "https://localhost:8080/",
          "height": 34
        },
        "outputId": "1c2ac40f-9b08-4ac2-c5e6-02c595035e96"
      },
      "source": [
        "lambda_arr = [1, 1e-1 , 1e-2 , 1e-3]\n",
        "w_arr = []\n",
        "lambda_arr"
      ],
      "execution_count": 65,
      "outputs": [
        {
          "output_type": "execute_result",
          "data": {
            "text/plain": [
              "[1, 0.1, 0.01, 0.001]"
            ]
          },
          "metadata": {
            "tags": []
          },
          "execution_count": 65
        }
      ]
    },
    {
      "cell_type": "code",
      "metadata": {
        "id": "bi1E5UwMhhd_",
        "colab_type": "code",
        "colab": {}
      },
      "source": [
        "for i in lambda_arr:\n",
        "  w = eval_model_reg2(X_st, y, iterations=5000, alpha=1e-2, lambda_=i)\n",
        "  w_arr.append(w)"
      ],
      "execution_count": 0,
      "outputs": []
    },
    {
      "cell_type": "code",
      "metadata": {
        "id": "HGSPUDbDir64",
        "colab_type": "code",
        "colab": {
          "base_uri": "https://localhost:8080/",
          "height": 85
        },
        "outputId": "b2a6f67f-4dfa-43b2-b16d-8864489c8bbf"
      },
      "source": [
        "w_arr"
      ],
      "execution_count": 67,
      "outputs": [
        {
          "output_type": "execute_result",
          "data": {
            "text/plain": [
              "[array([38.26666667,  3.66557478,  2.94352608,  3.25219037]),\n",
              " array([54.66666667,  5.3118901 ,  2.25660813,  3.88109191]),\n",
              " array([57.11442786,  6.0088442 ,  1.55430443,  4.08144793]),\n",
              " array([57.37131434,  6.11038803,  1.44200443,  4.11257825])]"
            ]
          },
          "metadata": {
            "tags": []
          },
          "execution_count": 67
        }
      ]
    },
    {
      "cell_type": "code",
      "metadata": {
        "id": "e_gUH6vDuTP7",
        "colab_type": "code",
        "colab": {
          "base_uri": "https://localhost:8080/",
          "height": 34
        },
        "outputId": "a3153fe1-25f8-4a0d-e013-68088d526aa7"
      },
      "source": [
        "len(lambda_arr)"
      ],
      "execution_count": 68,
      "outputs": [
        {
          "output_type": "execute_result",
          "data": {
            "text/plain": [
              "4"
            ]
          },
          "metadata": {
            "tags": []
          },
          "execution_count": 68
        }
      ]
    },
    {
      "cell_type": "code",
      "metadata": {
        "id": "Qc8XNY1jtbfV",
        "colab_type": "code",
        "colab": {
          "base_uri": "https://localhost:8080/",
          "height": 473
        },
        "outputId": "2c75b207-1982-4d5d-ed36-e08b34b7dca9"
      },
      "source": [
        "w_arr = np.array(w_arr)\n",
        "for i in range(len(lambda_arr)):\n",
        "  print(i)\n",
        "  plt.plot(lambda_arr, w_arr[:,i])\n",
        "  print(lambda_arr)\n",
        "  print(w_arr[:,i])\n",
        "plt.show()\n",
        "\n"
      ],
      "execution_count": 69,
      "outputs": [
        {
          "output_type": "stream",
          "text": [
            "0\n",
            "[1, 0.1, 0.01, 0.001]\n",
            "[38.26666667 54.66666667 57.11442786 57.37131434]\n",
            "1\n",
            "[1, 0.1, 0.01, 0.001]\n",
            "[3.66557478 5.3118901  6.0088442  6.11038803]\n",
            "2\n",
            "[1, 0.1, 0.01, 0.001]\n",
            "[2.94352608 2.25660813 1.55430443 1.44200443]\n",
            "3\n",
            "[1, 0.1, 0.01, 0.001]\n",
            "[3.25219037 3.88109191 4.08144793 4.11257825]\n"
          ],
          "name": "stdout"
        },
        {
          "output_type": "display_data",
          "data": {
            "image/png": "[encoded data removed]",
            "text/plain": [
              "<Figure size 432x288 with 1 Axes>"
            ]
          },
          "metadata": {
            "tags": []
          }
        }
      ]
    },
    {
      "cell_type": "markdown",
      "metadata": {
        "id": "SbqlfuuEjXK5",
        "colab_type": "text"
      },
      "source": [
        "2. Можно ли к одному и тому же признаку применить сразу и нормализацию, и стандартизацию?"
      ]
    },
    {
      "cell_type": "markdown",
      "metadata": {
        "id": "VcB8z20WjgEH",
        "colab_type": "text"
      },
      "source": [
        "К одному признаку можно применить либо нормализацию, либо стандартизацию, в зависимости от выбора алгоритма машинного обучения."
      ]
    },
    {
      "cell_type": "markdown",
      "metadata": {
        "id": "M82hmK8Fjdq5",
        "colab_type": "text"
      },
      "source": [
        "3*. Напишите функцию наподобие eval_model_reg2, но для применения L1-регуляризации."
      ]
    },
    {
      "cell_type": "code",
      "metadata": {
        "id": "PNMHvM9GjecU",
        "colab_type": "code",
        "colab": {}
      },
      "source": [
        "def eval_model_reg1(X, y, iterations, alpha=1e-4, lambda_=1e-8):\n",
        "  np.random.seed(42)\n",
        "  W = np.random.randn(X.shape[0])\n",
        "  n = X.shape[1]\n",
        "  for i in range(1, iterations+1):\n",
        "    y_pred = np.dot(W, X)\n",
        "    err = calc_mse(y, y_pred)\n",
        "    W -= alpha * (1/n * 2 * np.dot((y_pred - y), X.T) + lambda_ *np.sign(W)) \n",
        "    if i % (iterations / 10) == 0:\n",
        "      print(i, W, err)\n",
        "  return W"
      ],
      "execution_count": 0,
      "outputs": []
    },
    {
      "cell_type": "code",
      "metadata": {
        "id": "KzW0CtONj2Bt",
        "colab_type": "code",
        "colab": {
          "base_uri": "https://localhost:8080/",
          "height": 204
        },
        "outputId": "c8819a63-6e1c-4bf5-fc6b-dcade5dfbf9c"
      },
      "source": [
        "eval_model_reg1(X_st, y, iterations=5000, alpha=1e-2, lambda_=1e-4)"
      ],
      "execution_count": 71,
      "outputs": [
        {
          "output_type": "stream",
          "text": [
            "500 [57.3976156   5.1079242   2.46011903  4.08691798] 39.98154926927971\n",
            "1000 [57.3999499   5.76651203  1.85620907  4.03912572] 39.807123006041756\n",
            "1500 [57.39995     5.99151699  1.60431305  4.06910179] 39.782340871131034\n",
            "2000 [57.39995     6.07256443  1.50039558  4.09329499] 39.778489156156425\n",
            "2500 [57.39995     6.10296578  1.45779797  4.10604572] 39.77786776237367\n",
            "3000 [57.39995     6.11470092  1.44040178  4.11193613] 39.7777660764615\n",
            "3500 [57.39995    6.1193181  1.4333132  4.1145017] 39.777749346503995\n",
            "4000 [57.39995     6.12115708  1.43042856  4.11558584] 39.77774658745513\n",
            "4500 [57.39995     6.12189515  1.42925561  4.11603642] 39.7777461315781\n",
            "5000 [57.39995     6.12219276  1.42877888  4.11622191] 39.777746056009406\n"
          ],
          "name": "stdout"
        },
        {
          "output_type": "execute_result",
          "data": {
            "text/plain": [
              "array([57.39995   ,  6.12219276,  1.42877888,  4.11622191])"
            ]
          },
          "metadata": {
            "tags": []
          },
          "execution_count": 71
        }
      ]
    },
    {
      "cell_type": "code",
      "metadata": {
        "id": "Dj5NQWb9j98-",
        "colab_type": "code",
        "colab": {}
      },
      "source": [
        ""
      ],
      "execution_count": 0,
      "outputs": []
    }
  ]
}